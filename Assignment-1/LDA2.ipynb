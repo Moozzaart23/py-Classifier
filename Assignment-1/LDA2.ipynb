{
 "cells": [
  {
   "cell_type": "code",
   "execution_count": 2,
   "metadata": {},
   "outputs": [],
   "source": [
    "import numpy as np\n",
    "import pandas as pd\n",
    "from pandas import *\n",
    "import matplotlib.pyplot as plt\n",
    "import scipy.stats as stats\n",
    "import pylab as pl"
   ]
  },
  {
   "cell_type": "code",
   "execution_count": 3,
   "metadata": {},
   "outputs": [],
   "source": [
    "df = pd.read_csv(\"./a1_data/a1_d2.csv\",sep=\",\",header=None)"
   ]
  },
  {
   "cell_type": "code",
   "execution_count": 4,
   "metadata": {},
   "outputs": [],
   "source": [
    "df.columns=['F1','F2','F3','C']"
   ]
  },
  {
   "cell_type": "code",
   "execution_count": 5,
   "metadata": {},
   "outputs": [],
   "source": [
    "df_train=df.iloc[300:, :]\n",
    "df_test=df.iloc[0:300, :]"
   ]
  },
  {
   "cell_type": "code",
   "execution_count": 6,
   "metadata": {},
   "outputs": [
    {
     "data": {
      "text/html": [
       "<div>\n",
       "<style scoped>\n",
       "    .dataframe tbody tr th:only-of-type {\n",
       "        vertical-align: middle;\n",
       "    }\n",
       "\n",
       "    .dataframe tbody tr th {\n",
       "        vertical-align: top;\n",
       "    }\n",
       "\n",
       "    .dataframe thead th {\n",
       "        text-align: right;\n",
       "    }\n",
       "</style>\n",
       "<table border=\"1\" class=\"dataframe\">\n",
       "  <thead>\n",
       "    <tr style=\"text-align: right;\">\n",
       "      <th></th>\n",
       "      <th>F1</th>\n",
       "      <th>F2</th>\n",
       "      <th>F3</th>\n",
       "      <th>C</th>\n",
       "    </tr>\n",
       "  </thead>\n",
       "  <tbody>\n",
       "    <tr>\n",
       "      <th>0</th>\n",
       "      <td>-6.672418</td>\n",
       "      <td>-1.206198</td>\n",
       "      <td>-1.081050</td>\n",
       "      <td>0</td>\n",
       "    </tr>\n",
       "    <tr>\n",
       "      <th>1</th>\n",
       "      <td>1.675598</td>\n",
       "      <td>0.614994</td>\n",
       "      <td>-0.971600</td>\n",
       "      <td>0</td>\n",
       "    </tr>\n",
       "    <tr>\n",
       "      <th>2</th>\n",
       "      <td>-4.039058</td>\n",
       "      <td>0.335102</td>\n",
       "      <td>0.544618</td>\n",
       "      <td>1</td>\n",
       "    </tr>\n",
       "    <tr>\n",
       "      <th>3</th>\n",
       "      <td>0.793526</td>\n",
       "      <td>-0.235277</td>\n",
       "      <td>0.551771</td>\n",
       "      <td>1</td>\n",
       "    </tr>\n",
       "    <tr>\n",
       "      <th>4</th>\n",
       "      <td>3.820273</td>\n",
       "      <td>-0.274691</td>\n",
       "      <td>0.454743</td>\n",
       "      <td>1</td>\n",
       "    </tr>\n",
       "    <tr>\n",
       "      <th>...</th>\n",
       "      <td>...</td>\n",
       "      <td>...</td>\n",
       "      <td>...</td>\n",
       "      <td>...</td>\n",
       "    </tr>\n",
       "    <tr>\n",
       "      <th>295</th>\n",
       "      <td>1.506052</td>\n",
       "      <td>1.174034</td>\n",
       "      <td>1.624770</td>\n",
       "      <td>1</td>\n",
       "    </tr>\n",
       "    <tr>\n",
       "      <th>296</th>\n",
       "      <td>1.409654</td>\n",
       "      <td>1.815033</td>\n",
       "      <td>-1.120982</td>\n",
       "      <td>0</td>\n",
       "    </tr>\n",
       "    <tr>\n",
       "      <th>297</th>\n",
       "      <td>0.251425</td>\n",
       "      <td>1.883749</td>\n",
       "      <td>-1.364541</td>\n",
       "      <td>0</td>\n",
       "    </tr>\n",
       "    <tr>\n",
       "      <th>298</th>\n",
       "      <td>-4.672151</td>\n",
       "      <td>2.926241</td>\n",
       "      <td>-1.002955</td>\n",
       "      <td>0</td>\n",
       "    </tr>\n",
       "    <tr>\n",
       "      <th>299</th>\n",
       "      <td>-0.567936</td>\n",
       "      <td>-2.002565</td>\n",
       "      <td>0.440062</td>\n",
       "      <td>1</td>\n",
       "    </tr>\n",
       "  </tbody>\n",
       "</table>\n",
       "<p>300 rows × 4 columns</p>\n",
       "</div>"
      ],
      "text/plain": [
       "           F1        F2        F3  C\n",
       "0   -6.672418 -1.206198 -1.081050  0\n",
       "1    1.675598  0.614994 -0.971600  0\n",
       "2   -4.039058  0.335102  0.544618  1\n",
       "3    0.793526 -0.235277  0.551771  1\n",
       "4    3.820273 -0.274691  0.454743  1\n",
       "..        ...       ...       ... ..\n",
       "295  1.506052  1.174034  1.624770  1\n",
       "296  1.409654  1.815033 -1.120982  0\n",
       "297  0.251425  1.883749 -1.364541  0\n",
       "298 -4.672151  2.926241 -1.002955  0\n",
       "299 -0.567936 -2.002565  0.440062  1\n",
       "\n",
       "[300 rows x 4 columns]"
      ]
     },
     "execution_count": 6,
     "metadata": {},
     "output_type": "execute_result"
    }
   ],
   "source": [
    "df_test"
   ]
  },
  {
   "cell_type": "code",
   "execution_count": 7,
   "metadata": {},
   "outputs": [],
   "source": [
    "df1=df_train[df_train['C']==0]\n",
    "df2=df_train[df_train['C']==1]"
   ]
  },
  {
   "cell_type": "code",
   "execution_count": 8,
   "metadata": {},
   "outputs": [
    {
     "name": "stdout",
     "output_type": "stream",
     "text": [
      "[[ 0.06598061]\n",
      " [ 0.10635453]\n",
      " [-1.01042327]]\n"
     ]
    }
   ],
   "source": [
    "m0=df1.mean().values.reshape(4,1)\n",
    "m0=m0[0:3]\n",
    "m1=df2.mean().values.reshape(4,1)\n",
    "m1=m1[0:3]\n",
    "print(m0)"
   ]
  },
  {
   "cell_type": "code",
   "execution_count": 9,
   "metadata": {},
   "outputs": [],
   "source": [
    "X0=df1.iloc[:,0:3]\n",
    "X1=df2.iloc[:,0:3]"
   ]
  },
  {
   "cell_type": "code",
   "execution_count": 10,
   "metadata": {},
   "outputs": [
    {
     "name": "stdout",
     "output_type": "stream",
     "text": [
      "1029\n",
      "[[-1.26058747]\n",
      " [-0.38753625]\n",
      " [-0.09248594]]\n"
     ]
    }
   ],
   "source": [
    "x=X0[0:1].values.reshape(3,1)\n",
    "print(X0.size)\n",
    "print(x-m0)"
   ]
  },
  {
   "cell_type": "code",
   "execution_count": 11,
   "metadata": {},
   "outputs": [
    {
     "name": "stdout",
     "output_type": "stream",
     "text": [
      "[[ 0.14100976]\n",
      " [-0.00173846]\n",
      " [ 1.00189747]]\n"
     ]
    }
   ],
   "source": [
    "within_class_scatter_matrix=np.zeros((3,3))\n",
    "print(m1)\n",
    "s=np.zeros((3,3))\n",
    "for i in range(0,(int)((X0.size)/3)):\n",
    "    x=X0[i:i+1].values.reshape(3,1)\n",
    "    a=(x-m0).dot((x-m0).T)\n",
    "    #print(a)\n",
    "    s+=a\n",
    "within_class_scatter_matrix+=s\n",
    "s=np.zeros((3,3))\n",
    "for i in range(0,(int)((X1.size)/3)):\n",
    "    x=X1[i:i+1].values.reshape(3,1)\n",
    "    s+=(x-m1).dot((x-m1).T)\n",
    "within_class_scatter_matrix+=s"
   ]
  },
  {
   "cell_type": "code",
   "execution_count": 12,
   "metadata": {},
   "outputs": [
    {
     "data": {
      "text/plain": [
       "array([[6398.58081858, -101.91781814,   45.78257923],\n",
       "       [-101.91781814,  651.43578143,   13.50390059],\n",
       "       [  45.78257923,   13.50390059,   59.43677842]])"
      ]
     },
     "execution_count": 12,
     "metadata": {},
     "output_type": "execute_result"
    }
   ],
   "source": [
    "within_class_scatter_matrix"
   ]
  },
  {
   "cell_type": "code",
   "execution_count": 13,
   "metadata": {},
   "outputs": [
    {
     "name": "stdout",
     "output_type": "stream",
     "text": [
      "[[-0.07502915]\n",
      " [ 0.10809298]\n",
      " [-2.01232074]]\n"
     ]
    }
   ],
   "source": [
    "m=m0-m1\n",
    "print(m)"
   ]
  },
  {
   "cell_type": "code",
   "execution_count": 14,
   "metadata": {},
   "outputs": [],
   "source": [
    "w=np.linalg.inv(within_class_scatter_matrix).dot(m)"
   ]
  },
  {
   "cell_type": "code",
   "execution_count": 15,
   "metadata": {},
   "outputs": [
    {
     "data": {
      "text/plain": [
       "array([[ 0.00024795],\n",
       "       [ 0.00091482],\n",
       "       [-0.03425532]])"
      ]
     },
     "execution_count": 15,
     "metadata": {},
     "output_type": "execute_result"
    }
   ],
   "source": [
    "w"
   ]
  },
  {
   "cell_type": "code",
   "execution_count": 16,
   "metadata": {},
   "outputs": [],
   "source": [
    "points0=w.T.dot(X0.T)\n",
    "points1=w.T.dot(X1.T)"
   ]
  },
  {
   "cell_type": "code",
   "execution_count": 17,
   "metadata": {},
   "outputs": [
    {
     "data": {
      "text/plain": [
       "343"
      ]
     },
     "execution_count": 17,
     "metadata": {},
     "output_type": "execute_result"
    }
   ],
   "source": [
    "points0[0].size"
   ]
  },
  {
   "cell_type": "code",
   "execution_count": 18,
   "metadata": {},
   "outputs": [],
   "source": [
    "def solve(m1,m2,std1,std2):\n",
    "  a = 1/(2*std1**2) - 1/(2*std2**2)\n",
    "  b = m2/(std2**2) - m1/(std1**2)\n",
    "  c = m1**2 /(2*std1**2) - m2**2 / (2*std2**2) - np.log(std2/std1)\n",
    "  return np.roots([a,b,c])"
   ]
  },
  {
   "cell_type": "code",
   "execution_count": 31,
   "metadata": {},
   "outputs": [
    {
     "data": {
      "image/png": "[encoded data removed]",
      "text/plain": [
       "<Figure size 1440x720 with 1 Axes>"
      ]
     },
     "metadata": {
      "needs_background": "light"
     },
     "output_type": "display_data"
    }
   ],
   "source": [
    "plt.figure(figsize=(20,10))\n",
    "plt.plot(points0[0],[1]*points0[0].size,'ro',label='Class 0 Points')\n",
    "plt.plot(points1[0],[1]*points1[0].size,'bo',label='Class 1 Points')\n",
    "plt.legend(prop={'size':20})\n",
    "plt.suptitle(\"Training Points\",fontsize=20)\n",
    "plt.savefig('Line2')\n",
    "plt.show()"
   ]
  },
  {
   "cell_type": "code",
   "execution_count": 20,
   "metadata": {},
   "outputs": [
    {
     "name": "stdout",
     "output_type": "stream",
     "text": [
      "[0.09350552 0.01227073]\n",
      "[0.01227073]\n"
     ]
    },
    {
     "data": {
      "image/png": "[encoded data removed]",
      "text/plain": [
       "<Figure size 1440x720 with 1 Axes>"
      ]
     },
     "metadata": {
      "needs_background": "light"
     },
     "output_type": "display_data"
    }
   ],
   "source": [
    "h0=sorted(points0[0])\n",
    "h1=sorted(points1[0])\n",
    "m11=np.mean(h0)\n",
    "m2=np.mean(h1)\n",
    "std1=np.std(h0)\n",
    "std2=np.std(h1)\n",
    "result = solve(m11,m2,std1,std2)\n",
    "print(result)\n",
    "a=min(m11-3*std1,m2-3*std2)\n",
    "b=max(m11+3*std1,m2+3*std2)\n",
    "x=np.linspace(a,b,10000)\n",
    "plt.figure(figsize=(20,10))\n",
    "fit0 = stats.norm.pdf(x, np.mean(h0), np.std(h0))\n",
    "fit1 = stats.norm.pdf(x, np.mean(h1), np.std(h1))\n",
    "plt.plot(x,fit0,'b-',label='Class 0 Normal Distribution')\n",
    "plt.plot(x,fit1,'r-',label='Class 1 Normal Distribution')\n",
    "result=result[1:]\n",
    "print(result)\n",
    "plt.axvline(result,label='The Discriminant Point '+str(result[0]),c=\"orange\")\n",
    "plt.legend(prop={'size':20})\n",
    "plt.savefig(\"Normal2\")\n",
    "plt.show()           "
   ]
  },
  {
   "cell_type": "code",
   "execution_count": 21,
   "metadata": {},
   "outputs": [],
   "source": [
    "x=df_test.iloc[:,0:3]\n",
    "t=df_test.iloc[:,3:]\n",
    "p0=result[0]\n",
    "points=w.T.dot(x.T)\n",
    "pred=[]\n",
    "m=0\n",
    "c=0\n",
    "for p in points[0]:\n",
    "    if(p>p0):\n",
    "        pred.append(0)\n",
    "    else:\n",
    "        pred.append(1)"
   ]
  },
  {
   "cell_type": "code",
   "execution_count": 22,
   "metadata": {},
   "outputs": [
    {
     "name": "stdout",
     "output_type": "stream",
     "text": [
      "Accuracy:  1.0\n",
      "Precision:  1.0\n",
      "recall:  1.0\n",
      "F-Score:  1.0\n"
     ]
    }
   ],
   "source": [
    "tn=0\n",
    "tp=0\n",
    "fn=0\n",
    "fp=0\n",
    "c=0\n",
    "for i in range(0,len(pred)):\n",
    "    if(pred[i]==t[c:c+1].values.reshape(1,1)):\n",
    "        if(t[c:c+1].values.reshape(1,1)==1):\n",
    "            tp+=1\n",
    "        else:\n",
    "            tn+=1\n",
    "    else:\n",
    "        if(t[c:c+1].values.reshape(1,1)==1):\n",
    "            fn+=1\n",
    "        else:\n",
    "            fp+=1\n",
    "    c=c+1\n",
    "pr=tp/(tp+fp)\n",
    "re=tp/(tp+fn)\n",
    "print(\"Accuracy: \",(tp+tn)/(tp+tn+fp+fn))\n",
    "print(\"Precision: \",pr)\n",
    "print(\"recall: \",re)\n",
    "print(\"F-Score: \",2*pr*re/(pr+re))"
   ]
  },
  {
   "cell_type": "code",
   "execution_count": 23,
   "metadata": {},
   "outputs": [],
   "source": [
    "pred=[]\n",
    "pp=[]\n",
    "m=0\n",
    "c=0\n",
    "for p in points[0]:\n",
    "    if(p>p0):\n",
    "        pred.append(p)\n",
    "    else:\n",
    "        pp.append(p)"
   ]
  },
  {
   "cell_type": "code",
   "execution_count": 24,
   "metadata": {},
   "outputs": [
    {
     "data": {
      "image/png": "[encoded data removed]",
      "text/plain": [
       "<Figure size 1440x720 with 1 Axes>"
      ]
     },
     "metadata": {
      "needs_background": "light"
     },
     "output_type": "display_data"
    }
   ],
   "source": [
    "plt.figure(figsize=(20,10))\n",
    "plt.plot(pred,[1]*len(pred),'ro')\n",
    "plt.plot(pp,[1]*len(pp),'bo')\n",
    "plt.show()"
   ]
  },
  {
   "cell_type": "code",
   "execution_count": null,
   "metadata": {},
   "outputs": [],
   "source": []
  },
  {
   "cell_type": "code",
   "execution_count": null,
   "metadata": {},
   "outputs": [],
   "source": []
  },
  {
   "cell_type": "code",
   "execution_count": null,
   "metadata": {},
   "outputs": [],
   "source": []
  }
 ],
 "metadata": {
  "kernelspec": {
   "display_name": "Python 3",
   "language": "python",
   "name": "python3"
  },
  "language_info": {
   "codemirror_mode": {
    "name": "ipython",
    "version": 3
   },
   "file_extension": ".py",
   "mimetype": "text/x-python",
   "name": "python",
   "nbconvert_exporter": "python",
   "pygments_lexer": "ipython3",
   "version": "3.8.2"
  }
 },
 "nbformat": 4,
 "nbformat_minor": 4
}
