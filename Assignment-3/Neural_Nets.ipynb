{
 "cells": [
  {
   "cell_type": "code",
   "execution_count": 1,
   "metadata": {},
   "outputs": [],
   "source": [
    "import numpy as np\n",
    "import pandas as pd\n",
    "import random\n",
    "import time\n",
    "import matplotlib.pyplot as plt\n",
    "from IPython import display\n",
    "\n",
    "from FCLayer import FCLayer\n",
    "from ActivationLayer import ActivationLayer\n",
    "from Activations import *\n",
    "from losses import mse, mse_prime\n",
    "from Accuracy import *"
   ]
  },
  {
   "cell_type": "code",
   "execution_count": 2,
   "metadata": {},
   "outputs": [],
   "source": [
    "class LoadPreprocessData:\n",
    "    def __init__(self, path, header = None):\n",
    "        self.dataset = pd.read_csv(path, header = header)\n",
    "        self.X = self.dataset.iloc[:, :-1]\n",
    "        self.y = self.dataset.iloc[:, -1]\n",
    "        \n",
    "    def normalize(self, axis = 0):\n",
    "        self.X = ((self.X - self.X.mean(axis = axis)) / self.X.std(axis = axis))\n",
    "    \n",
    "    def train_test_split(self, percent = 80):\n",
    "        train_rows = random.sample(range(0, self.y.size), percent * self.y.size // 100)\n",
    "        train_rows.sort()\n",
    "        test_rows=[rows for rows in self.X.index.values if rows not in train_rows]\n",
    "        self.train_X = self.X.iloc[train_rows].reset_index(drop = True)\n",
    "        self.train_y = self.y.iloc[train_rows].reset_index(drop = True) \n",
    "        \n",
    "        self.test_X = self.X.iloc[test_rows].reset_index(drop = True) \n",
    "        self.test_y = self.y.iloc[test_rows].reset_index(drop = True) "
   ]
  },
  {
   "cell_type": "code",
   "execution_count": 3,
   "metadata": {},
   "outputs": [],
   "source": [
    "dataClass = LoadPreprocessData(\"housepricedata.csv\", 0)\n",
    "dataClass.normalize()\n",
    "dataClass.train_test_split()"
   ]
  },
  {
   "cell_type": "code",
   "execution_count": 4,
   "metadata": {},
   "outputs": [
    {
     "data": {
      "text/html": [
       "<div>\n",
       "<style scoped>\n",
       "    .dataframe tbody tr th:only-of-type {\n",
       "        vertical-align: middle;\n",
       "    }\n",
       "\n",
       "    .dataframe tbody tr th {\n",
       "        vertical-align: top;\n",
       "    }\n",
       "\n",
       "    .dataframe thead th {\n",
       "        text-align: right;\n",
       "    }\n",
       "</style>\n",
       "<table border=\"1\" class=\"dataframe\">\n",
       "  <thead>\n",
       "    <tr style=\"text-align: right;\">\n",
       "      <th></th>\n",
       "      <th>LotArea</th>\n",
       "      <th>OverallQual</th>\n",
       "      <th>OverallCond</th>\n",
       "      <th>TotalBsmtSF</th>\n",
       "      <th>FullBath</th>\n",
       "      <th>HalfBath</th>\n",
       "      <th>BedroomAbvGr</th>\n",
       "      <th>TotRmsAbvGrd</th>\n",
       "      <th>Fireplaces</th>\n",
       "      <th>GarageArea</th>\n",
       "    </tr>\n",
       "  </thead>\n",
       "  <tbody>\n",
       "    <tr>\n",
       "      <th>0</th>\n",
       "      <td>-0.207071</td>\n",
       "      <td>0.651256</td>\n",
       "      <td>-0.517023</td>\n",
       "      <td>-0.459145</td>\n",
       "      <td>0.789470</td>\n",
       "      <td>1.227165</td>\n",
       "      <td>0.163723</td>\n",
       "      <td>0.911897</td>\n",
       "      <td>-0.950901</td>\n",
       "      <td>0.350880</td>\n",
       "    </tr>\n",
       "    <tr>\n",
       "      <th>1</th>\n",
       "      <td>-0.091855</td>\n",
       "      <td>-0.071812</td>\n",
       "      <td>2.178881</td>\n",
       "      <td>0.466305</td>\n",
       "      <td>0.789470</td>\n",
       "      <td>-0.761360</td>\n",
       "      <td>0.163723</td>\n",
       "      <td>-0.318574</td>\n",
       "      <td>0.600289</td>\n",
       "      <td>-0.060710</td>\n",
       "    </tr>\n",
       "    <tr>\n",
       "      <th>2</th>\n",
       "      <td>0.073455</td>\n",
       "      <td>0.651256</td>\n",
       "      <td>-0.517023</td>\n",
       "      <td>-0.313261</td>\n",
       "      <td>0.789470</td>\n",
       "      <td>1.227165</td>\n",
       "      <td>0.163723</td>\n",
       "      <td>-0.318574</td>\n",
       "      <td>0.600289</td>\n",
       "      <td>0.631510</td>\n",
       "    </tr>\n",
       "    <tr>\n",
       "      <th>3</th>\n",
       "      <td>-0.096864</td>\n",
       "      <td>0.651256</td>\n",
       "      <td>-0.517023</td>\n",
       "      <td>-0.687089</td>\n",
       "      <td>-1.025689</td>\n",
       "      <td>-0.761360</td>\n",
       "      <td>0.163723</td>\n",
       "      <td>0.296662</td>\n",
       "      <td>0.600289</td>\n",
       "      <td>0.790533</td>\n",
       "    </tr>\n",
       "    <tr>\n",
       "      <th>4</th>\n",
       "      <td>0.375020</td>\n",
       "      <td>1.374324</td>\n",
       "      <td>-0.517023</td>\n",
       "      <td>0.199611</td>\n",
       "      <td>0.789470</td>\n",
       "      <td>1.227165</td>\n",
       "      <td>1.389547</td>\n",
       "      <td>1.527133</td>\n",
       "      <td>0.600289</td>\n",
       "      <td>1.697903</td>\n",
       "    </tr>\n",
       "    <tr>\n",
       "      <th>...</th>\n",
       "      <td>...</td>\n",
       "      <td>...</td>\n",
       "      <td>...</td>\n",
       "      <td>...</td>\n",
       "      <td>...</td>\n",
       "      <td>...</td>\n",
       "      <td>...</td>\n",
       "      <td>...</td>\n",
       "      <td>...</td>\n",
       "      <td>...</td>\n",
       "    </tr>\n",
       "    <tr>\n",
       "      <th>1163</th>\n",
       "      <td>-0.685467</td>\n",
       "      <td>-0.794879</td>\n",
       "      <td>-0.517023</td>\n",
       "      <td>-1.163490</td>\n",
       "      <td>-1.025689</td>\n",
       "      <td>-0.761360</td>\n",
       "      <td>-1.062101</td>\n",
       "      <td>-0.933810</td>\n",
       "      <td>-0.950901</td>\n",
       "      <td>0.243305</td>\n",
       "    </tr>\n",
       "    <tr>\n",
       "      <th>1164</th>\n",
       "      <td>-0.302249</td>\n",
       "      <td>0.651256</td>\n",
       "      <td>-0.517023</td>\n",
       "      <td>0.372848</td>\n",
       "      <td>0.789470</td>\n",
       "      <td>-0.761360</td>\n",
       "      <td>-1.062101</td>\n",
       "      <td>-0.318574</td>\n",
       "      <td>-0.950901</td>\n",
       "      <td>-0.341340</td>\n",
       "    </tr>\n",
       "    <tr>\n",
       "      <th>1165</th>\n",
       "      <td>-0.260471</td>\n",
       "      <td>-0.071812</td>\n",
       "      <td>-0.517023</td>\n",
       "      <td>-0.238040</td>\n",
       "      <td>0.789470</td>\n",
       "      <td>1.227165</td>\n",
       "      <td>0.163723</td>\n",
       "      <td>0.296662</td>\n",
       "      <td>0.600289</td>\n",
       "      <td>-0.060710</td>\n",
       "    </tr>\n",
       "    <tr>\n",
       "      <th>1166</th>\n",
       "      <td>0.266316</td>\n",
       "      <td>-0.071812</td>\n",
       "      <td>0.381612</td>\n",
       "      <td>1.104547</td>\n",
       "      <td>0.789470</td>\n",
       "      <td>-0.761360</td>\n",
       "      <td>0.163723</td>\n",
       "      <td>0.296662</td>\n",
       "      <td>2.151479</td>\n",
       "      <td>0.126376</td>\n",
       "    </tr>\n",
       "    <tr>\n",
       "      <th>1167</th>\n",
       "      <td>-0.147760</td>\n",
       "      <td>0.651256</td>\n",
       "      <td>3.077516</td>\n",
       "      <td>0.215567</td>\n",
       "      <td>0.789470</td>\n",
       "      <td>-0.761360</td>\n",
       "      <td>1.389547</td>\n",
       "      <td>1.527133</td>\n",
       "      <td>2.151479</td>\n",
       "      <td>-1.033560</td>\n",
       "    </tr>\n",
       "  </tbody>\n",
       "</table>\n",
       "<p>1168 rows × 10 columns</p>\n",
       "</div>"
      ],
      "text/plain": [
       "       LotArea  OverallQual  OverallCond  TotalBsmtSF  FullBath  HalfBath  \\\n",
       "0    -0.207071     0.651256    -0.517023    -0.459145  0.789470  1.227165   \n",
       "1    -0.091855    -0.071812     2.178881     0.466305  0.789470 -0.761360   \n",
       "2     0.073455     0.651256    -0.517023    -0.313261  0.789470  1.227165   \n",
       "3    -0.096864     0.651256    -0.517023    -0.687089 -1.025689 -0.761360   \n",
       "4     0.375020     1.374324    -0.517023     0.199611  0.789470  1.227165   \n",
       "...        ...          ...          ...          ...       ...       ...   \n",
       "1163 -0.685467    -0.794879    -0.517023    -1.163490 -1.025689 -0.761360   \n",
       "1164 -0.302249     0.651256    -0.517023     0.372848  0.789470 -0.761360   \n",
       "1165 -0.260471    -0.071812    -0.517023    -0.238040  0.789470  1.227165   \n",
       "1166  0.266316    -0.071812     0.381612     1.104547  0.789470 -0.761360   \n",
       "1167 -0.147760     0.651256     3.077516     0.215567  0.789470 -0.761360   \n",
       "\n",
       "      BedroomAbvGr  TotRmsAbvGrd  Fireplaces  GarageArea  \n",
       "0         0.163723      0.911897   -0.950901    0.350880  \n",
       "1         0.163723     -0.318574    0.600289   -0.060710  \n",
       "2         0.163723     -0.318574    0.600289    0.631510  \n",
       "3         0.163723      0.296662    0.600289    0.790533  \n",
       "4         1.389547      1.527133    0.600289    1.697903  \n",
       "...            ...           ...         ...         ...  \n",
       "1163     -1.062101     -0.933810   -0.950901    0.243305  \n",
       "1164     -1.062101     -0.318574   -0.950901   -0.341340  \n",
       "1165      0.163723      0.296662    0.600289   -0.060710  \n",
       "1166      0.163723      0.296662    2.151479    0.126376  \n",
       "1167      1.389547      1.527133    2.151479   -1.033560  \n",
       "\n",
       "[1168 rows x 10 columns]"
      ]
     },
     "execution_count": 4,
     "metadata": {},
     "output_type": "execute_result"
    }
   ],
   "source": [
    "dataClass.train_X"
   ]
  },
  {
   "cell_type": "code",
   "execution_count": 5,
   "metadata": {},
   "outputs": [],
   "source": [
    "class Network:\n",
    "    def __init__(self):\n",
    "        self.layers = []\n",
    "        self.loss = None\n",
    "        self.loss_prime = None\n",
    "\n",
    "    # add layer to network\n",
    "    def add(self, layer):\n",
    "        self.layers.append(layer)\n",
    "\n",
    "    # set loss to use\n",
    "    def use(self, loss, loss_prime):\n",
    "        self.loss = loss\n",
    "        self.loss_prime = loss_prime\n",
    "\n",
    "    # predict output for given input\n",
    "    def predict(self, input_data):\n",
    "        # sample dimension first\n",
    "        samples = len(input_data)\n",
    "        result = []\n",
    "\n",
    "        # run network over all samples\n",
    "        for i in range(samples):\n",
    "            # forward propagation\n",
    "            output = input_data[i]\n",
    "            for layer in self.layers:\n",
    "                output = layer.forward_propagation(output)\n",
    "            result.append(output)\n",
    "\n",
    "        return result\n",
    "\n",
    "    # train the network\n",
    "    def fit(self, x_train, y_train, epochs, learning_rate, plot = True):\n",
    "        \n",
    "        # plot parameters\n",
    "        losses = []\n",
    "        x = []\n",
    "        # sample dimension first\n",
    "        samples = len(x_train)\n",
    "\n",
    "        # training loop\n",
    "        for i in range(epochs):\n",
    "            err = 0\n",
    "            for j in range(samples):\n",
    "                # forward propagation\n",
    "                output = x_train[j]\n",
    "                for layer in self.layers:\n",
    "                    output = layer.forward_propagation(output)\n",
    "\n",
    "                # compute loss (for display purpose only)\n",
    "                err += self.loss(y_train[j], output)\n",
    "                \n",
    "                # backward propagation\n",
    "                error = self.loss_prime(y_train[j], output)\n",
    "                for layer in reversed(self.layers):\n",
    "                    error = layer.backward_propagation(error, learning_rate)\n",
    "\n",
    "            # calculate average error on all samples\n",
    "            err /= samples\n",
    "            losses = np.append(losses, err)\n",
    "            x = np.append(x, i)        \n",
    "            if i % 100 == 0:\n",
    "                print('epoch %d/%d   error=%f' % (i+1, epochs, err))\n",
    "                if plot:\n",
    "                    plt.gca().cla() \n",
    "                    plt.plot(x, losses,label='test')\n",
    "                    plt.legend()\n",
    "                    display.display(plt.gcf()) \n",
    "                    time.sleep(0.1) \n",
    "                    display.clear_output(wait=True)"
   ]
  },
  {
   "cell_type": "code",
   "execution_count": 122,
   "metadata": {
    "scrolled": true
   },
   "outputs": [
    {
     "data": {
      "image/png": "[encoded data removed]",
      "text/plain": [
       "<Figure size 432x288 with 1 Axes>"
      ]
     },
     "metadata": {
      "needs_background": "light"
     },
     "output_type": "display_data"
    }
   ],
   "source": [
    "# network\n",
    "\n",
    "# weights initialization\n",
    "weights = \"normal\"\n",
    "\n",
    "net = Network()\n",
    "net.add(FCLayer(10, 20, weights))\n",
    "net.add(ActivationLayer(sigmoid, sigmoid_prime))\n",
    "net.add(FCLayer(20,10, weights))\n",
    "net.add(ActivationLayer(sigmoid, sigmoid_prime))\n",
    "net.add(FCLayer(10,1, weights))\n",
    "net.add(ActivationLayer(sigmoid, sigmoid_prime))\n",
    "# train\n",
    "net.use(mse, mse_prime)\n",
    "net.fit(dataClass.train_X.values.reshape(1168,1,10), dataClass.train_y.values.reshape(1168,1,1), epochs=500, learning_rate=0.2)\n",
    "\n",
    "# test\n",
    "# out = net.predict(x_train)\n",
    "# print(out)"
   ]
  },
  {
   "cell_type": "code",
   "execution_count": 123,
   "metadata": {},
   "outputs": [],
   "source": [
    "predicted = net.predict(dataClass.test_X.values.reshape(292,1,10))\n",
    "predicted = [0 if x < 0.5 else 1 for x in predicted]\n",
    "predicted;\n",
    "actual = dataClass.test_y;"
   ]
  },
  {
   "cell_type": "code",
   "execution_count": 124,
   "metadata": {},
   "outputs": [
    {
     "data": {
      "text/plain": [
       "0.9075342465753424"
      ]
     },
     "execution_count": 124,
     "metadata": {},
     "output_type": "execute_result"
    }
   ],
   "source": [
    "np.count_nonzero(np.array(predicted) == dataClass.test_y)/292"
   ]
  },
  {
   "cell_type": "code",
   "execution_count": 125,
   "metadata": {},
   "outputs": [
    {
     "data": {
      "text/plain": [
       "0.9075342465753424"
      ]
     },
     "execution_count": 125,
     "metadata": {},
     "output_type": "execute_result"
    }
   ],
   "source": [
    "accuracy = Accuracy(predicted, actual)\n",
    "accuracy.accuracy()"
   ]
  },
  {
   "cell_type": "code",
   "execution_count": 126,
   "metadata": {},
   "outputs": [
    {
     "data": {
      "text/plain": [
       "0.9084745762711864"
      ]
     },
     "execution_count": 126,
     "metadata": {},
     "output_type": "execute_result"
    }
   ],
   "source": [
    "accuracy.F_score()\n",
    "accuracy.fScore"
   ]
  },
  {
   "cell_type": "code",
   "execution_count": 6,
   "metadata": {
    "scrolled": true
   },
   "outputs": [
    {
     "data": {
      "image/png": "[encoded data removed]",
      "text/plain": [
       "<Figure size 432x288 with 1 Axes>"
      ]
     },
     "metadata": {
      "needs_background": "light"
     },
     "output_type": "display_data"
    }
   ],
   "source": [
    "# network\n",
    "\n",
    "# weights initialization\n",
    "weights = \"normal\"\n",
    "\n",
    "net = Network()\n",
    "net.add(FCLayer(10, 20, weights))\n",
    "net.add(ActivationLayer(sigmoid, sigmoid_prime))\n",
    "net.add(FCLayer(20,10, weights))\n",
    "net.add(ActivationLayer(sigmoid, sigmoid_prime))\n",
    "net.add(FCLayer(10,1, weights))\n",
    "net.add(ActivationLayer(sigmoid, sigmoid_prime))\n",
    "# train\n",
    "net.use(mse, mse_prime)\n",
    "net.fit(dataClass.train_X.values.reshape(1168,1,10), dataClass.train_y.values.reshape(1168,1,1), epochs=500, learning_rate=0.3)\n",
    "\n",
    "# test\n",
    "# out = net.predict(x_train)\n",
    "# print(out)"
   ]
  },
  {
   "cell_type": "code",
   "execution_count": 7,
   "metadata": {},
   "outputs": [],
   "source": [
    "predicted = net.predict(dataClass.test_X.values.reshape(292,1,10))\n",
    "predicted = [0 if x < 0.5 else 1 for x in predicted]\n",
    "predicted;\n",
    "actual = dataClass.test_y;"
   ]
  },
  {
   "cell_type": "code",
   "execution_count": 8,
   "metadata": {},
   "outputs": [
    {
     "data": {
      "text/plain": [
       "0.9075342465753424"
      ]
     },
     "execution_count": 8,
     "metadata": {},
     "output_type": "execute_result"
    }
   ],
   "source": [
    "np.count_nonzero(np.array(predicted) == dataClass.test_y)/292"
   ]
  },
  {
   "cell_type": "code",
   "execution_count": 9,
   "metadata": {},
   "outputs": [
    {
     "data": {
      "text/plain": [
       "0.9075342465753424"
      ]
     },
     "execution_count": 9,
     "metadata": {},
     "output_type": "execute_result"
    }
   ],
   "source": [
    "accuracy = Accuracy(predicted, actual)\n",
    "accuracy.accuracy()"
   ]
  },
  {
   "cell_type": "code",
   "execution_count": 10,
   "metadata": {},
   "outputs": [
    {
     "data": {
      "text/plain": [
       "0.9052631578947368"
      ]
     },
     "execution_count": 10,
     "metadata": {},
     "output_type": "execute_result"
    }
   ],
   "source": [
    "accuracy.F_score()\n",
    "accuracy.fScore"
   ]
  },
  {
   "cell_type": "code",
   "execution_count": 66,
   "metadata": {
    "scrolled": true
   },
   "outputs": [
    {
     "data": {
      "image/png": "[encoded data removed]",
      "text/plain": [
       "<Figure size 432x288 with 1 Axes>"
      ]
     },
     "metadata": {
      "needs_background": "light"
     },
     "output_type": "display_data"
    }
   ],
   "source": [
    "# network\n",
    "\n",
    "# weights initialization\n",
    "weights = \"normal\"\n",
    "\n",
    "net = Network()\n",
    "net.add(FCLayer(10, 20, weights))\n",
    "net.add(ActivationLayer(sigmoid, sigmoid_prime))\n",
    "net.add(FCLayer(20,10, weights))\n",
    "net.add(ActivationLayer(sigmoid, sigmoid_prime))\n",
    "net.add(FCLayer(10,1, weights))\n",
    "net.add(ActivationLayer(sigmoid, sigmoid_prime))\n",
    "# train\n",
    "net.use(mse, mse_prime)\n",
    "net.fit(dataClass.train_X.values.reshape(1168,1,10), dataClass.train_y.values.reshape(1168,1,1), epochs=500, learning_rate=0.4)\n",
    "\n",
    "# test\n",
    "# out = net.predict(x_train)\n",
    "# print(out)"
   ]
  },
  {
   "cell_type": "code",
   "execution_count": 67,
   "metadata": {},
   "outputs": [],
   "source": [
    "predicted = net.predict(dataClass.test_X.values.reshape(292,1,10))\n",
    "predicted = [0 if x < 0.5 else 1 for x in predicted]\n",
    "predicted;\n",
    "actual = dataClass.test_y;"
   ]
  },
  {
   "cell_type": "code",
   "execution_count": 68,
   "metadata": {},
   "outputs": [
    {
     "data": {
      "text/plain": [
       "0.9075342465753424"
      ]
     },
     "execution_count": 68,
     "metadata": {},
     "output_type": "execute_result"
    }
   ],
   "source": [
    "np.count_nonzero(np.array(predicted) == dataClass.test_y)/292"
   ]
  },
  {
   "cell_type": "code",
   "execution_count": 69,
   "metadata": {},
   "outputs": [
    {
     "data": {
      "text/plain": [
       "0.9075342465753424"
      ]
     },
     "execution_count": 69,
     "metadata": {},
     "output_type": "execute_result"
    }
   ],
   "source": [
    "accuracy = Accuracy(predicted, actual)\n",
    "accuracy.accuracy()"
   ]
  },
  {
   "cell_type": "code",
   "execution_count": 70,
   "metadata": {},
   "outputs": [
    {
     "data": {
      "text/plain": [
       "0.9059233449477352"
      ]
     },
     "execution_count": 70,
     "metadata": {},
     "output_type": "execute_result"
    }
   ],
   "source": [
    "accuracy.F_score()\n",
    "accuracy.fScore"
   ]
  },
  {
   "cell_type": "code",
   "execution_count": 127,
   "metadata": {},
   "outputs": [
    {
     "data": {
      "image/png": "[encoded data removed]",
      "text/plain": [
       "<Figure size 432x288 with 1 Axes>"
      ]
     },
     "metadata": {
      "needs_background": "light"
     },
     "output_type": "display_data"
    }
   ],
   "source": [
    "# network\n",
    "\n",
    "# weights initialization\n",
    "weights = \"0\"\n",
    "\n",
    "net = Network()\n",
    "net.add(FCLayer(10, 20, weights))\n",
    "net.add(ActivationLayer(sigmoid, sigmoid_prime))\n",
    "net.add(FCLayer(20,10, weights))\n",
    "net.add(ActivationLayer(sigmoid, sigmoid_prime))\n",
    "net.add(FCLayer(10,1, weights))\n",
    "net.add(ActivationLayer(sigmoid, sigmoid_prime))\n",
    "# train\n",
    "net.use(mse, mse_prime)\n",
    "net.fit(dataClass.train_X.values.reshape(1168,1,10), dataClass.train_y.values.reshape(1168,1,1), epochs=500, learning_rate=0.2)\n",
    "\n",
    "# test\n",
    "# out = net.predict(x_train)\n",
    "# print(out)"
   ]
  },
  {
   "cell_type": "code",
   "execution_count": 128,
   "metadata": {},
   "outputs": [],
   "source": [
    "predicted = net.predict(dataClass.test_X.values.reshape(292,1,10))\n",
    "predicted = [0 if x < 0.5 else 1 for x in predicted]\n",
    "predicted;\n",
    "actual = dataClass.test_y;"
   ]
  },
  {
   "cell_type": "code",
   "execution_count": 129,
   "metadata": {
    "scrolled": true
   },
   "outputs": [
    {
     "data": {
      "text/plain": [
       "0.9246575342465754"
      ]
     },
     "execution_count": 129,
     "metadata": {},
     "output_type": "execute_result"
    }
   ],
   "source": [
    "np.count_nonzero(np.array(predicted) == dataClass.test_y)/292"
   ]
  },
  {
   "cell_type": "code",
   "execution_count": 130,
   "metadata": {},
   "outputs": [
    {
     "data": {
      "text/plain": [
       "0.9246575342465754"
      ]
     },
     "execution_count": 130,
     "metadata": {},
     "output_type": "execute_result"
    }
   ],
   "source": [
    "accuracy = Accuracy(predicted, actual)\n",
    "accuracy.accuracy()"
   ]
  },
  {
   "cell_type": "code",
   "execution_count": 131,
   "metadata": {},
   "outputs": [
    {
     "data": {
      "text/plain": [
       "0.9241379310344827"
      ]
     },
     "execution_count": 131,
     "metadata": {},
     "output_type": "execute_result"
    }
   ],
   "source": [
    "accuracy.F_score()\n",
    "accuracy.fScore"
   ]
  },
  {
   "cell_type": "code",
   "execution_count": 11,
   "metadata": {},
   "outputs": [
    {
     "data": {
      "image/png": "[encoded data removed]",
      "text/plain": [
       "<Figure size 432x288 with 1 Axes>"
      ]
     },
     "metadata": {
      "needs_background": "light"
     },
     "output_type": "display_data"
    }
   ],
   "source": [
    "# network\n",
    "\n",
    "# weights initialization\n",
    "weights = \"0\"\n",
    "\n",
    "net = Network()\n",
    "net.add(FCLayer(10, 20, weights))\n",
    "net.add(ActivationLayer(sigmoid, sigmoid_prime))\n",
    "net.add(FCLayer(20,10, weights))\n",
    "net.add(ActivationLayer(sigmoid, sigmoid_prime))\n",
    "net.add(FCLayer(10,1, weights))\n",
    "net.add(ActivationLayer(sigmoid, sigmoid_prime))\n",
    "# train\n",
    "net.use(mse, mse_prime)\n",
    "net.fit(dataClass.train_X.values.reshape(1168,1,10), dataClass.train_y.values.reshape(1168,1,1), epochs=500, learning_rate=0.3)\n",
    "\n",
    "# test\n",
    "# out = net.predict(x_train)\n",
    "# print(out)"
   ]
  },
  {
   "cell_type": "code",
   "execution_count": 12,
   "metadata": {},
   "outputs": [],
   "source": [
    "predicted = net.predict(dataClass.test_X.values.reshape(292,1,10))\n",
    "predicted = [0 if x < 0.5 else 1 for x in predicted]\n",
    "predicted;\n",
    "actual = dataClass.test_y;"
   ]
  },
  {
   "cell_type": "code",
   "execution_count": 13,
   "metadata": {
    "scrolled": true
   },
   "outputs": [
    {
     "data": {
      "text/plain": [
       "0.9246575342465754"
      ]
     },
     "execution_count": 13,
     "metadata": {},
     "output_type": "execute_result"
    }
   ],
   "source": [
    "np.count_nonzero(np.array(predicted) == dataClass.test_y)/292"
   ]
  },
  {
   "cell_type": "code",
   "execution_count": 14,
   "metadata": {},
   "outputs": [
    {
     "data": {
      "text/plain": [
       "0.9246575342465754"
      ]
     },
     "execution_count": 14,
     "metadata": {},
     "output_type": "execute_result"
    }
   ],
   "source": [
    "accuracy = Accuracy(predicted, actual)\n",
    "accuracy.accuracy()"
   ]
  },
  {
   "cell_type": "code",
   "execution_count": 15,
   "metadata": {},
   "outputs": [
    {
     "data": {
      "text/plain": [
       "0.9241379310344827"
      ]
     },
     "execution_count": 15,
     "metadata": {},
     "output_type": "execute_result"
    }
   ],
   "source": [
    "accuracy.F_score()\n",
    "accuracy.fScore"
   ]
  },
  {
   "cell_type": "code",
   "execution_count": 71,
   "metadata": {},
   "outputs": [
    {
     "data": {
      "image/png": "[encoded data removed]",
      "text/plain": [
       "<Figure size 432x288 with 1 Axes>"
      ]
     },
     "metadata": {
      "needs_background": "light"
     },
     "output_type": "display_data"
    }
   ],
   "source": [
    "# network\n",
    "\n",
    "# weights initialization\n",
    "weights = \"0\"\n",
    "\n",
    "net = Network()\n",
    "net.add(FCLayer(10, 20, weights))\n",
    "net.add(ActivationLayer(sigmoid, sigmoid_prime))\n",
    "net.add(FCLayer(20,10, weights))\n",
    "net.add(ActivationLayer(sigmoid, sigmoid_prime))\n",
    "net.add(FCLayer(10,1, weights))\n",
    "net.add(ActivationLayer(sigmoid, sigmoid_prime))\n",
    "# train\n",
    "net.use(mse, mse_prime)\n",
    "net.fit(dataClass.train_X.values.reshape(1168,1,10), dataClass.train_y.values.reshape(1168,1,1), epochs=500, learning_rate=0.4)\n",
    "\n",
    "# test\n",
    "# out = net.predict(x_train)\n",
    "# print(out)"
   ]
  },
  {
   "cell_type": "code",
   "execution_count": 72,
   "metadata": {},
   "outputs": [],
   "source": [
    "predicted = net.predict(dataClass.test_X.values.reshape(292,1,10))\n",
    "predicted = [0 if x < 0.5 else 1 for x in predicted]\n",
    "predicted;\n",
    "actual = dataClass.test_y;"
   ]
  },
  {
   "cell_type": "code",
   "execution_count": 73,
   "metadata": {},
   "outputs": [
    {
     "data": {
      "text/plain": [
       "0.9246575342465754"
      ]
     },
     "execution_count": 73,
     "metadata": {},
     "output_type": "execute_result"
    }
   ],
   "source": [
    "np.count_nonzero(np.array(predicted) == dataClass.test_y)/292"
   ]
  },
  {
   "cell_type": "code",
   "execution_count": 74,
   "metadata": {},
   "outputs": [
    {
     "data": {
      "text/plain": [
       "0.9246575342465754"
      ]
     },
     "execution_count": 74,
     "metadata": {},
     "output_type": "execute_result"
    }
   ],
   "source": [
    "accuracy = Accuracy(predicted, actual)\n",
    "accuracy.accuracy()"
   ]
  },
  {
   "cell_type": "code",
   "execution_count": 75,
   "metadata": {},
   "outputs": [
    {
     "data": {
      "text/plain": [
       "0.9241379310344827"
      ]
     },
     "execution_count": 75,
     "metadata": {},
     "output_type": "execute_result"
    }
   ],
   "source": [
    "accuracy.F_score()\n",
    "accuracy.fScore"
   ]
  },
  {
   "cell_type": "code",
   "execution_count": 87,
   "metadata": {},
   "outputs": [
    {
     "data": {
      "image/png": "[encoded data removed]",
      "text/plain": [
       "<Figure size 432x288 with 1 Axes>"
      ]
     },
     "metadata": {
      "needs_background": "light"
     },
     "output_type": "display_data"
    }
   ],
   "source": [
    "# network\n",
    "\n",
    "# weights initialization\n",
    "weights = \"gaussian\"\n",
    "\n",
    "net = Network()\n",
    "net.add(FCLayer(10, 20, weights))\n",
    "net.add(ActivationLayer(sigmoid, sigmoid_prime))\n",
    "net.add(FCLayer(20,10, weights))\n",
    "net.add(ActivationLayer(sigmoid, sigmoid_prime))\n",
    "net.add(FCLayer(10,1, weights))\n",
    "net.add(ActivationLayer(sigmoid, sigmoid_prime))\n",
    "# train\n",
    "net.use(mse, mse_prime)\n",
    "net.fit(dataClass.train_X.values.reshape(1168,1,10), dataClass.train_y.values.reshape(1168,1,1), epochs=500, learning_rate=0.3)\n",
    "\n",
    "# test\n",
    "# out = net.predict(x_train)\n",
    "# print(out)"
   ]
  },
  {
   "cell_type": "code",
   "execution_count": 88,
   "metadata": {},
   "outputs": [],
   "source": [
    "predicted = net.predict(dataClass.test_X.values.reshape(292,1,10))\n",
    "predicted = [0 if x < 0.5 else 1 for x in predicted]\n",
    "predicted;\n",
    "actual = dataClass.test_y;"
   ]
  },
  {
   "cell_type": "code",
   "execution_count": 89,
   "metadata": {
    "scrolled": false
   },
   "outputs": [
    {
     "data": {
      "text/plain": [
       "0.8527397260273972"
      ]
     },
     "execution_count": 89,
     "metadata": {},
     "output_type": "execute_result"
    }
   ],
   "source": [
    "np.count_nonzero(np.array(predicted) == dataClass.test_y)/292"
   ]
  },
  {
   "cell_type": "code",
   "execution_count": 90,
   "metadata": {},
   "outputs": [
    {
     "data": {
      "text/plain": [
       "0.8527397260273972"
      ]
     },
     "execution_count": 90,
     "metadata": {},
     "output_type": "execute_result"
    }
   ],
   "source": [
    "accuracy = Accuracy(predicted, actual)\n",
    "accuracy.accuracy()"
   ]
  },
  {
   "cell_type": "code",
   "execution_count": 91,
   "metadata": {},
   "outputs": [
    {
     "data": {
      "text/plain": [
       "0.8522336769759451"
      ]
     },
     "execution_count": 91,
     "metadata": {},
     "output_type": "execute_result"
    }
   ],
   "source": [
    "accuracy.F_score()\n",
    "accuracy.fScore"
   ]
  },
  {
   "cell_type": "code",
   "execution_count": 132,
   "metadata": {},
   "outputs": [
    {
     "data": {
      "image/png": "[encoded data removed]",
      "text/plain": [
       "<Figure size 432x288 with 1 Axes>"
      ]
     },
     "metadata": {
      "needs_background": "light"
     },
     "output_type": "display_data"
    }
   ],
   "source": [
    "# network\n",
    "\n",
    "# weights initialization\n",
    "weights = \"gaussian\"\n",
    "\n",
    "net = Network()\n",
    "net.add(FCLayer(10, 20, weights))\n",
    "net.add(ActivationLayer(sigmoid, sigmoid_prime))\n",
    "net.add(FCLayer(20,10, weights))\n",
    "net.add(ActivationLayer(sigmoid, sigmoid_prime))\n",
    "net.add(FCLayer(10,1, weights))\n",
    "net.add(ActivationLayer(sigmoid, sigmoid_prime))\n",
    "# train\n",
    "net.use(mse, mse_prime)\n",
    "net.fit(dataClass.train_X.values.reshape(1168,1,10), dataClass.train_y.values.reshape(1168,1,1), epochs=500, learning_rate=0.2)\n",
    "\n",
    "# test\n",
    "# out = net.predict(x_train)\n",
    "# print(out)"
   ]
  },
  {
   "cell_type": "code",
   "execution_count": 133,
   "metadata": {},
   "outputs": [],
   "source": [
    "predicted = net.predict(dataClass.test_X.values.reshape(292,1,10))\n",
    "predicted = [0 if x < 0.5 else 1 for x in predicted]\n",
    "predicted;\n",
    "actual = dataClass.test_y;"
   ]
  },
  {
   "cell_type": "code",
   "execution_count": 134,
   "metadata": {
    "scrolled": false
   },
   "outputs": [
    {
     "data": {
      "text/plain": [
       "0.8801369863013698"
      ]
     },
     "execution_count": 134,
     "metadata": {},
     "output_type": "execute_result"
    }
   ],
   "source": [
    "np.count_nonzero(np.array(predicted) == dataClass.test_y)/292"
   ]
  },
  {
   "cell_type": "code",
   "execution_count": 135,
   "metadata": {},
   "outputs": [
    {
     "data": {
      "text/plain": [
       "0.8801369863013698"
      ]
     },
     "execution_count": 135,
     "metadata": {},
     "output_type": "execute_result"
    }
   ],
   "source": [
    "accuracy = Accuracy(predicted, actual)\n",
    "accuracy.accuracy()"
   ]
  },
  {
   "cell_type": "code",
   "execution_count": 136,
   "metadata": {},
   "outputs": [
    {
     "data": {
      "text/plain": [
       "0.8813559322033899"
      ]
     },
     "execution_count": 136,
     "metadata": {},
     "output_type": "execute_result"
    }
   ],
   "source": [
    "accuracy.F_score()\n",
    "accuracy.fScore"
   ]
  },
  {
   "cell_type": "code",
   "execution_count": 92,
   "metadata": {},
   "outputs": [
    {
     "data": {
      "image/png": "[encoded data removed]",
      "text/plain": [
       "<Figure size 432x288 with 1 Axes>"
      ]
     },
     "metadata": {
      "needs_background": "light"
     },
     "output_type": "display_data"
    }
   ],
   "source": [
    "# network\n",
    "\n",
    "# weights initialization\n",
    "weights = \"gaussian\"\n",
    "\n",
    "net = Network()\n",
    "net.add(FCLayer(10, 20, weights))\n",
    "net.add(ActivationLayer(sigmoid, sigmoid_prime))\n",
    "net.add(FCLayer(20,10, weights))\n",
    "net.add(ActivationLayer(sigmoid, sigmoid_prime))\n",
    "net.add(FCLayer(10,1, weights))\n",
    "net.add(ActivationLayer(sigmoid, sigmoid_prime))\n",
    "# train\n",
    "net.use(mse, mse_prime)\n",
    "net.fit(dataClass.train_X.values.reshape(1168,1,10), dataClass.train_y.values.reshape(1168,1,1), epochs=500, learning_rate=0.4)\n",
    "\n",
    "# test\n",
    "# out = net.predict(x_train)\n",
    "# print(out)"
   ]
  },
  {
   "cell_type": "code",
   "execution_count": 93,
   "metadata": {},
   "outputs": [],
   "source": [
    "predicted = net.predict(dataClass.test_X.values.reshape(292,1,10))\n",
    "predicted = [0 if x < 0.5 else 1 for x in predicted]\n",
    "predicted;\n",
    "actual = dataClass.test_y;"
   ]
  },
  {
   "cell_type": "code",
   "execution_count": 94,
   "metadata": {
    "scrolled": true
   },
   "outputs": [
    {
     "data": {
      "text/plain": [
       "0.9006849315068494"
      ]
     },
     "execution_count": 94,
     "metadata": {},
     "output_type": "execute_result"
    }
   ],
   "source": [
    "np.count_nonzero(np.array(predicted) == dataClass.test_y)/292"
   ]
  },
  {
   "cell_type": "code",
   "execution_count": 95,
   "metadata": {},
   "outputs": [
    {
     "data": {
      "text/plain": [
       "0.9006849315068494"
      ]
     },
     "execution_count": 95,
     "metadata": {},
     "output_type": "execute_result"
    }
   ],
   "source": [
    "accuracy = Accuracy(predicted, actual)\n",
    "accuracy.accuracy()"
   ]
  },
  {
   "cell_type": "code",
   "execution_count": 96,
   "metadata": {},
   "outputs": [
    {
     "data": {
      "text/plain": [
       "0.9016949152542374"
      ]
     },
     "execution_count": 96,
     "metadata": {},
     "output_type": "execute_result"
    }
   ],
   "source": [
    "accuracy.F_score()\n",
    "accuracy.fScore"
   ]
  },
  {
   "cell_type": "code",
   "execution_count": 137,
   "metadata": {},
   "outputs": [
    {
     "data": {
      "image/png": "[encoded data removed]",
      "text/plain": [
       "<Figure size 432x288 with 1 Axes>"
      ]
     },
     "metadata": {
      "needs_background": "light"
     },
     "output_type": "display_data"
    }
   ],
   "source": [
    "# network\n",
    "\n",
    "# weights initialization\n",
    "weights = \"uniform\"\n",
    "\n",
    "net = Network()\n",
    "net.add(FCLayer(10, 20, weights))\n",
    "net.add(ActivationLayer(sigmoid, sigmoid_prime))\n",
    "net.add(FCLayer(20,10, weights))\n",
    "net.add(ActivationLayer(sigmoid, sigmoid_prime))\n",
    "net.add(FCLayer(10,1, weights))\n",
    "net.add(ActivationLayer(sigmoid, sigmoid_prime))\n",
    "# train\n",
    "net.use(mse, mse_prime)\n",
    "net.fit(dataClass.train_X.values.reshape(1168,1,10), dataClass.train_y.values.reshape(1168,1,1), epochs=500, learning_rate=0.2)\n",
    "\n",
    "# test\n",
    "# out = net.predict(x_train)\n",
    "# print(out)"
   ]
  },
  {
   "cell_type": "code",
   "execution_count": 138,
   "metadata": {},
   "outputs": [],
   "source": [
    "predicted = net.predict(dataClass.test_X.values.reshape(292,1,10))\n",
    "predicted = [0 if x < 0.5 else 1 for x in predicted]\n",
    "predicted;\n",
    "actual = dataClass.test_y;"
   ]
  },
  {
   "cell_type": "code",
   "execution_count": 139,
   "metadata": {},
   "outputs": [
    {
     "data": {
      "text/plain": [
       "0.8767123287671232"
      ]
     },
     "execution_count": 139,
     "metadata": {},
     "output_type": "execute_result"
    }
   ],
   "source": [
    "np.count_nonzero(np.array(predicted) == dataClass.test_y)/292"
   ]
  },
  {
   "cell_type": "code",
   "execution_count": 140,
   "metadata": {},
   "outputs": [
    {
     "data": {
      "text/plain": [
       "0.8767123287671232"
      ]
     },
     "execution_count": 140,
     "metadata": {},
     "output_type": "execute_result"
    }
   ],
   "source": [
    "accuracy = Accuracy(predicted, actual)\n",
    "accuracy.accuracy()"
   ]
  },
  {
   "cell_type": "code",
   "execution_count": 141,
   "metadata": {},
   "outputs": [
    {
     "data": {
      "text/plain": [
       "0.8783783783783783"
      ]
     },
     "execution_count": 141,
     "metadata": {},
     "output_type": "execute_result"
    }
   ],
   "source": [
    "accuracy.F_score()\n",
    "accuracy.fScore"
   ]
  },
  {
   "cell_type": "code",
   "execution_count": 97,
   "metadata": {},
   "outputs": [
    {
     "data": {
      "image/png": "[encoded data removed]",
      "text/plain": [
       "<Figure size 432x288 with 1 Axes>"
      ]
     },
     "metadata": {
      "needs_background": "light"
     },
     "output_type": "display_data"
    }
   ],
   "source": [
    "# network\n",
    "\n",
    "# weights initialization\n",
    "weights = \"uniform\"\n",
    "\n",
    "net = Network()\n",
    "net.add(FCLayer(10, 20, weights))\n",
    "net.add(ActivationLayer(sigmoid, sigmoid_prime))\n",
    "net.add(FCLayer(20,10, weights))\n",
    "net.add(ActivationLayer(sigmoid, sigmoid_prime))\n",
    "net.add(FCLayer(10,1, weights))\n",
    "net.add(ActivationLayer(sigmoid, sigmoid_prime))\n",
    "# train\n",
    "net.use(mse, mse_prime)\n",
    "net.fit(dataClass.train_X.values.reshape(1168,1,10), dataClass.train_y.values.reshape(1168,1,1), epochs=500, learning_rate=0.3)\n",
    "\n",
    "# test\n",
    "# out = net.predict(x_train)\n",
    "# print(out)"
   ]
  },
  {
   "cell_type": "code",
   "execution_count": 98,
   "metadata": {},
   "outputs": [],
   "source": [
    "predicted = net.predict(dataClass.test_X.values.reshape(292,1,10))\n",
    "predicted = [0 if x < 0.5 else 1 for x in predicted]\n",
    "predicted;\n",
    "actual = dataClass.test_y;"
   ]
  },
  {
   "cell_type": "code",
   "execution_count": 99,
   "metadata": {},
   "outputs": [
    {
     "data": {
      "text/plain": [
       "0.8732876712328768"
      ]
     },
     "execution_count": 99,
     "metadata": {},
     "output_type": "execute_result"
    }
   ],
   "source": [
    "np.count_nonzero(np.array(predicted) == dataClass.test_y)/292"
   ]
  },
  {
   "cell_type": "code",
   "execution_count": 100,
   "metadata": {},
   "outputs": [
    {
     "data": {
      "text/plain": [
       "0.8732876712328768"
      ]
     },
     "execution_count": 100,
     "metadata": {},
     "output_type": "execute_result"
    }
   ],
   "source": [
    "accuracy = Accuracy(predicted, actual)\n",
    "accuracy.accuracy()"
   ]
  },
  {
   "cell_type": "code",
   "execution_count": 101,
   "metadata": {},
   "outputs": [
    {
     "data": {
      "text/plain": [
       "0.8762541806020068"
      ]
     },
     "execution_count": 101,
     "metadata": {},
     "output_type": "execute_result"
    }
   ],
   "source": [
    "accuracy.F_score()\n",
    "accuracy.fScore"
   ]
  },
  {
   "cell_type": "code",
   "execution_count": 102,
   "metadata": {},
   "outputs": [
    {
     "data": {
      "image/png": "[encoded data removed]",
      "text/plain": [
       "<Figure size 432x288 with 1 Axes>"
      ]
     },
     "metadata": {
      "needs_background": "light"
     },
     "output_type": "display_data"
    }
   ],
   "source": [
    "# network\n",
    "\n",
    "# weights initialization\n",
    "weights = \"uniform\"\n",
    "\n",
    "net = Network()\n",
    "net.add(FCLayer(10, 20, weights))\n",
    "net.add(ActivationLayer(sigmoid, sigmoid_prime))\n",
    "net.add(FCLayer(20,10, weights))\n",
    "net.add(ActivationLayer(sigmoid, sigmoid_prime))\n",
    "net.add(FCLayer(10,1, weights))\n",
    "net.add(ActivationLayer(sigmoid, sigmoid_prime))\n",
    "# train\n",
    "net.use(mse, mse_prime)\n",
    "net.fit(dataClass.train_X.values.reshape(1168,1,10), dataClass.train_y.values.reshape(1168,1,1), epochs=500, learning_rate=0.4)\n",
    "\n",
    "# test\n",
    "# out = net.predict(x_train)\n",
    "# print(out)"
   ]
  },
  {
   "cell_type": "code",
   "execution_count": 103,
   "metadata": {},
   "outputs": [],
   "source": [
    "predicted = net.predict(dataClass.test_X.values.reshape(292,1,10))\n",
    "predicted = [0 if x < 0.5 else 1 for x in predicted]\n",
    "predicted;\n",
    "actual = dataClass.test_y;"
   ]
  },
  {
   "cell_type": "code",
   "execution_count": 104,
   "metadata": {},
   "outputs": [
    {
     "data": {
      "text/plain": [
       "0.8835616438356164"
      ]
     },
     "execution_count": 104,
     "metadata": {},
     "output_type": "execute_result"
    }
   ],
   "source": [
    "np.count_nonzero(np.array(predicted) == dataClass.test_y)/292"
   ]
  },
  {
   "cell_type": "code",
   "execution_count": 105,
   "metadata": {},
   "outputs": [
    {
     "data": {
      "text/plain": [
       "0.8835616438356164"
      ]
     },
     "execution_count": 105,
     "metadata": {},
     "output_type": "execute_result"
    }
   ],
   "source": [
    "accuracy = Accuracy(predicted, actual)\n",
    "accuracy.accuracy()"
   ]
  },
  {
   "cell_type": "code",
   "execution_count": 106,
   "metadata": {},
   "outputs": [
    {
     "data": {
      "text/plain": [
       "0.8851351351351352"
      ]
     },
     "execution_count": 106,
     "metadata": {},
     "output_type": "execute_result"
    }
   ],
   "source": [
    "accuracy.F_score()\n",
    "accuracy.fScore"
   ]
  },
  {
   "cell_type": "code",
   "execution_count": 142,
   "metadata": {
    "scrolled": true
   },
   "outputs": [
    {
     "data": {
      "image/png": "[encoded data removed]",
      "text/plain": [
       "<Figure size 432x288 with 1 Axes>"
      ]
     },
     "metadata": {
      "needs_background": "light"
     },
     "output_type": "display_data"
    }
   ],
   "source": [
    "# network\n",
    "\n",
    "# weights initialization\n",
    "weights = \"xavier\"\n",
    "\n",
    "net = Network()\n",
    "net.add(FCLayer(10, 20, weights))\n",
    "net.add(ActivationLayer(sigmoid, sigmoid_prime))\n",
    "net.add(FCLayer(20,10, weights))\n",
    "net.add(ActivationLayer(sigmoid, sigmoid_prime))\n",
    "net.add(FCLayer(10,1, weights))\n",
    "net.add(ActivationLayer(sigmoid, sigmoid_prime))\n",
    "# train\n",
    "net.use(mse, mse_prime)\n",
    "net.fit(dataClass.train_X.values.reshape(1168,1,10), dataClass.train_y.values.reshape(1168,1,1), epochs=500, learning_rate=0.2)\n",
    "\n",
    "# test\n",
    "# out = net.predict(x_train)\n",
    "# print(out)"
   ]
  },
  {
   "cell_type": "code",
   "execution_count": 143,
   "metadata": {},
   "outputs": [],
   "source": [
    "predicted = net.predict(dataClass.test_X.values.reshape(292,1,10))\n",
    "predicted = [0 if x < 0.5 else 1 for x in predicted]\n",
    "predicted;\n",
    "actual = dataClass.test_y;"
   ]
  },
  {
   "cell_type": "code",
   "execution_count": 144,
   "metadata": {
    "scrolled": true
   },
   "outputs": [
    {
     "data": {
      "text/plain": [
       "0.8664383561643836"
      ]
     },
     "execution_count": 144,
     "metadata": {},
     "output_type": "execute_result"
    }
   ],
   "source": [
    "np.count_nonzero(np.array(predicted) == dataClass.test_y)/292"
   ]
  },
  {
   "cell_type": "code",
   "execution_count": 145,
   "metadata": {},
   "outputs": [
    {
     "data": {
      "text/plain": [
       "0.8664383561643836"
      ]
     },
     "execution_count": 145,
     "metadata": {},
     "output_type": "execute_result"
    }
   ],
   "source": [
    "accuracy = Accuracy(predicted, actual)\n",
    "accuracy.accuracy()"
   ]
  },
  {
   "cell_type": "code",
   "execution_count": 146,
   "metadata": {},
   "outputs": [
    {
     "data": {
      "text/plain": [
       "0.8704318936877077"
      ]
     },
     "execution_count": 146,
     "metadata": {},
     "output_type": "execute_result"
    }
   ],
   "source": [
    "accuracy.F_score()\n",
    "accuracy.fScore"
   ]
  },
  {
   "cell_type": "code",
   "execution_count": 147,
   "metadata": {
    "scrolled": true
   },
   "outputs": [
    {
     "data": {
      "image/png": "[encoded data removed]",
      "text/plain": [
       "<Figure size 432x288 with 1 Axes>"
      ]
     },
     "metadata": {
      "needs_background": "light"
     },
     "output_type": "display_data"
    }
   ],
   "source": [
    "# network\n",
    "\n",
    "# weights initialization\n",
    "weights = \"xavier\"\n",
    "\n",
    "net = Network()\n",
    "net.add(FCLayer(10, 20, weights))\n",
    "net.add(ActivationLayer(sigmoid, sigmoid_prime))\n",
    "net.add(FCLayer(20,10, weights))\n",
    "net.add(ActivationLayer(sigmoid, sigmoid_prime))\n",
    "net.add(FCLayer(10,1, weights))\n",
    "net.add(ActivationLayer(sigmoid, sigmoid_prime))\n",
    "# train\n",
    "net.use(mse, mse_prime)\n",
    "net.fit(dataClass.train_X.values.reshape(1168,1,10), dataClass.train_y.values.reshape(1168,1,1), epochs=500, learning_rate=0.3)\n",
    "\n",
    "# test\n",
    "# out = net.predict(x_train)\n",
    "# print(out)"
   ]
  },
  {
   "cell_type": "code",
   "execution_count": 148,
   "metadata": {},
   "outputs": [],
   "source": [
    "predicted = net.predict(dataClass.test_X.values.reshape(292,1,10))\n",
    "predicted = [0 if x < 0.5 else 1 for x in predicted]\n",
    "predicted;\n",
    "actual = dataClass.test_y;"
   ]
  },
  {
   "cell_type": "code",
   "execution_count": 149,
   "metadata": {
    "scrolled": true
   },
   "outputs": [
    {
     "data": {
      "text/plain": [
       "0.8767123287671232"
      ]
     },
     "execution_count": 149,
     "metadata": {},
     "output_type": "execute_result"
    }
   ],
   "source": [
    "np.count_nonzero(np.array(predicted) == dataClass.test_y)/292"
   ]
  },
  {
   "cell_type": "code",
   "execution_count": 150,
   "metadata": {},
   "outputs": [
    {
     "data": {
      "text/plain": [
       "0.8767123287671232"
      ]
     },
     "execution_count": 150,
     "metadata": {},
     "output_type": "execute_result"
    }
   ],
   "source": [
    "accuracy = Accuracy(predicted, actual)\n",
    "accuracy.accuracy()"
   ]
  },
  {
   "cell_type": "code",
   "execution_count": 151,
   "metadata": {},
   "outputs": [
    {
     "data": {
      "text/plain": [
       "0.8775510204081632"
      ]
     },
     "execution_count": 151,
     "metadata": {},
     "output_type": "execute_result"
    }
   ],
   "source": [
    "accuracy.F_score()\n",
    "accuracy.fScore"
   ]
  },
  {
   "cell_type": "code",
   "execution_count": 112,
   "metadata": {
    "scrolled": true
   },
   "outputs": [
    {
     "data": {
      "image/png": "[encoded data removed]",
      "text/plain": [
       "<Figure size 432x288 with 1 Axes>"
      ]
     },
     "metadata": {
      "needs_background": "light"
     },
     "output_type": "display_data"
    }
   ],
   "source": [
    "# network\n",
    "\n",
    "# weights initialization\n",
    "weights = \"xavier\"\n",
    "\n",
    "net = Network()\n",
    "net.add(FCLayer(10, 20, weights))\n",
    "net.add(ActivationLayer(sigmoid, sigmoid_prime))\n",
    "net.add(FCLayer(20,10, weights))\n",
    "net.add(ActivationLayer(sigmoid, sigmoid_prime))\n",
    "net.add(FCLayer(10,1, weights))\n",
    "net.add(ActivationLayer(sigmoid, sigmoid_prime))\n",
    "# train\n",
    "net.use(mse, mse_prime)\n",
    "net.fit(dataClass.train_X.values.reshape(1168,1,10), dataClass.train_y.values.reshape(1168,1,1), epochs=500, learning_rate=0.4)\n",
    "\n",
    "# test\n",
    "# out = net.predict(x_train)\n",
    "# print(out)"
   ]
  },
  {
   "cell_type": "code",
   "execution_count": 113,
   "metadata": {},
   "outputs": [],
   "source": [
    "predicted = net.predict(dataClass.test_X.values.reshape(292,1,10))\n",
    "predicted = [0 if x < 0.5 else 1 for x in predicted]\n",
    "predicted;\n",
    "actual = dataClass.test_y;"
   ]
  },
  {
   "cell_type": "code",
   "execution_count": 114,
   "metadata": {
    "scrolled": true
   },
   "outputs": [
    {
     "data": {
      "text/plain": [
       "0.8972602739726028"
      ]
     },
     "execution_count": 114,
     "metadata": {},
     "output_type": "execute_result"
    }
   ],
   "source": [
    "np.count_nonzero(np.array(predicted) == dataClass.test_y)/292"
   ]
  },
  {
   "cell_type": "code",
   "execution_count": 115,
   "metadata": {},
   "outputs": [
    {
     "data": {
      "text/plain": [
       "0.8972602739726028"
      ]
     },
     "execution_count": 115,
     "metadata": {},
     "output_type": "execute_result"
    }
   ],
   "source": [
    "accuracy = Accuracy(predicted, actual)\n",
    "accuracy.accuracy()"
   ]
  },
  {
   "cell_type": "code",
   "execution_count": 116,
   "metadata": {},
   "outputs": [
    {
     "data": {
      "text/plain": [
       "0.8986486486486487"
      ]
     },
     "execution_count": 116,
     "metadata": {},
     "output_type": "execute_result"
    }
   ],
   "source": [
    "accuracy.F_score()\n",
    "accuracy.fScore"
   ]
  },
  {
   "cell_type": "code",
   "execution_count": 152,
   "metadata": {},
   "outputs": [
    {
     "data": {
      "image/png": "[encoded data removed]",
      "text/plain": [
       "<Figure size 432x288 with 1 Axes>"
      ]
     },
     "metadata": {
      "needs_background": "light"
     },
     "output_type": "display_data"
    }
   ],
   "source": [
    "# network\n",
    "\n",
    "# weights initialization\n",
    "weights = \"xavier\"\n",
    "\n",
    "net = Network()\n",
    "net.add(FCLayer(10, 20, weights))\n",
    "net.add(ActivationLayer(sigmoid, sigmoid_prime))\n",
    "net.add(FCLayer(20,10, weights))\n",
    "net.add(ActivationLayer(sigmoid, sigmoid_prime))\n",
    "net.add(FCLayer(10,1, weights))\n",
    "net.add(ActivationLayer(sigmoid, sigmoid_prime))\n",
    "# train\n",
    "net.use(mse, mse_prime)\n",
    "net.fit(dataClass.train_X.values.reshape(1168,1,10), dataClass.train_y.values.reshape(1168,1,1), epochs=600, learning_rate=0.3)\n",
    "\n",
    "# test\n",
    "# out = net.predict(x_train)\n",
    "# print(out)"
   ]
  },
  {
   "cell_type": "code",
   "execution_count": 153,
   "metadata": {},
   "outputs": [],
   "source": [
    "predicted = net.predict(dataClass.test_X.values.reshape(292,1,10))\n",
    "predicted = [0 if x < 0.5 else 1 for x in predicted]\n",
    "predicted;\n",
    "actual = dataClass.test_y;"
   ]
  },
  {
   "cell_type": "code",
   "execution_count": 154,
   "metadata": {},
   "outputs": [
    {
     "data": {
      "text/plain": [
       "0.8938356164383562"
      ]
     },
     "execution_count": 154,
     "metadata": {},
     "output_type": "execute_result"
    }
   ],
   "source": [
    "np.count_nonzero(np.array(predicted) == dataClass.test_y)/292"
   ]
  },
  {
   "cell_type": "code",
   "execution_count": 155,
   "metadata": {},
   "outputs": [
    {
     "data": {
      "text/plain": [
       "0.8938356164383562"
      ]
     },
     "execution_count": 155,
     "metadata": {},
     "output_type": "execute_result"
    }
   ],
   "source": [
    "accuracy = Accuracy(predicted, actual)\n",
    "accuracy.accuracy()"
   ]
  },
  {
   "cell_type": "code",
   "execution_count": 156,
   "metadata": {},
   "outputs": [
    {
     "data": {
      "text/plain": [
       "0.8927335640138409"
      ]
     },
     "execution_count": 156,
     "metadata": {},
     "output_type": "execute_result"
    }
   ],
   "source": [
    "accuracy.F_score()\n",
    "accuracy.fScore"
   ]
  },
  {
   "cell_type": "code",
   "execution_count": null,
   "metadata": {},
   "outputs": [],
   "source": []
  },
  {
   "cell_type": "code",
   "execution_count": 36,
   "metadata": {},
   "outputs": [
    {
     "data": {
      "image/png": "[encoded data removed]",
      "text/plain": [
       "<Figure size 432x288 with 1 Axes>"
      ]
     },
     "metadata": {
      "needs_background": "light"
     },
     "output_type": "display_data"
    }
   ],
   "source": [
    "# network\n",
    "\n",
    "# weights initialization\n",
    "weights = \"gaussian\"\n",
    "\n",
    "net = Network()\n",
    "net.add(FCLayer(10, 30, weights))\n",
    "net.add(ActivationLayer(sigmoid, sigmoid_prime))\n",
    "net.add(FCLayer(30,15, weights))\n",
    "net.add(ActivationLayer(sigmoid, sigmoid_prime))\n",
    "net.add(FCLayer(15,1, weights))\n",
    "net.add(ActivationLayer(sigmoid, sigmoid_prime))\n",
    "# train\n",
    "net.use(mse, mse_prime)\n",
    "net.fit(dataClass.train_X.values.reshape(1168,1,10), dataClass.train_y.values.reshape(1168,1,1), epochs=500, learning_rate=0.3)\n",
    "\n",
    "# test\n",
    "# out = net.predict(x_train)\n",
    "# print(out)"
   ]
  },
  {
   "cell_type": "code",
   "execution_count": 37,
   "metadata": {},
   "outputs": [],
   "source": [
    "predicted = net.predict(dataClass.test_X.values.reshape(292,1,10))\n",
    "predicted = [0 if x < 0.5 else 1 for x in predicted]\n",
    "predicted;\n",
    "actual = dataClass.test_y;"
   ]
  },
  {
   "cell_type": "code",
   "execution_count": 38,
   "metadata": {},
   "outputs": [
    {
     "data": {
      "text/plain": [
       "0.8904109589041096"
      ]
     },
     "execution_count": 38,
     "metadata": {},
     "output_type": "execute_result"
    }
   ],
   "source": [
    "np.count_nonzero(np.array(predicted) == dataClass.test_y)/292"
   ]
  },
  {
   "cell_type": "code",
   "execution_count": 39,
   "metadata": {},
   "outputs": [
    {
     "data": {
      "text/plain": [
       "0.8904109589041096"
      ]
     },
     "execution_count": 39,
     "metadata": {},
     "output_type": "execute_result"
    }
   ],
   "source": [
    "accuracy = Accuracy(predicted, actual)\n",
    "accuracy.accuracy()"
   ]
  },
  {
   "cell_type": "code",
   "execution_count": 40,
   "metadata": {},
   "outputs": [
    {
     "data": {
      "text/plain": [
       "0.8904109589041096"
      ]
     },
     "execution_count": 40,
     "metadata": {},
     "output_type": "execute_result"
    }
   ],
   "source": [
    "accuracy.F_score()\n",
    "accuracy.fScore"
   ]
  },
  {
   "cell_type": "code",
   "execution_count": 41,
   "metadata": {},
   "outputs": [
    {
     "data": {
      "image/png": "[encoded data removed]",
      "text/plain": [
       "<Figure size 432x288 with 1 Axes>"
      ]
     },
     "metadata": {
      "needs_background": "light"
     },
     "output_type": "display_data"
    }
   ],
   "source": [
    "# network\n",
    "\n",
    "# weights initialization\n",
    "weights = \"gaussian\"\n",
    "\n",
    "net = Network()\n",
    "net.add(FCLayer(10, 30, weights))\n",
    "net.add(ActivationLayer(tanh, tanh_prime))\n",
    "net.add(FCLayer(30,15, weights))\n",
    "net.add(ActivationLayer(tanh, tanh_prime))\n",
    "net.add(FCLayer(15,1, weights))\n",
    "net.add(ActivationLayer(sigmoid, sigmoid_prime))\n",
    "# train\n",
    "net.use(mse, mse_prime)\n",
    "net.fit(dataClass.train_X.values.reshape(1168,1,10), dataClass.train_y.values.reshape(1168,1,1), epochs=500, learning_rate=0.3)\n",
    "\n",
    "# test\n",
    "# out = net.predict(x_train)\n",
    "# print(out)"
   ]
  },
  {
   "cell_type": "code",
   "execution_count": 42,
   "metadata": {},
   "outputs": [],
   "source": [
    "predicted = net.predict(dataClass.test_X.values.reshape(292,1,10))\n",
    "predicted = [0 if x < 0.5 else 1 for x in predicted]\n",
    "predicted;\n",
    "actual = dataClass.test_y;"
   ]
  },
  {
   "cell_type": "code",
   "execution_count": 43,
   "metadata": {},
   "outputs": [
    {
     "data": {
      "text/plain": [
       "0.9143835616438356"
      ]
     },
     "execution_count": 43,
     "metadata": {},
     "output_type": "execute_result"
    }
   ],
   "source": [
    "np.count_nonzero(np.array(predicted) == dataClass.test_y)/292"
   ]
  },
  {
   "cell_type": "code",
   "execution_count": 44,
   "metadata": {},
   "outputs": [
    {
     "data": {
      "text/plain": [
       "0.9143835616438356"
      ]
     },
     "execution_count": 44,
     "metadata": {},
     "output_type": "execute_result"
    }
   ],
   "source": [
    "accuracy = Accuracy(predicted, actual)\n",
    "accuracy.accuracy()"
   ]
  },
  {
   "cell_type": "code",
   "execution_count": 45,
   "metadata": {},
   "outputs": [
    {
     "data": {
      "text/plain": [
       "0.9140893470790378"
      ]
     },
     "execution_count": 45,
     "metadata": {},
     "output_type": "execute_result"
    }
   ],
   "source": [
    "accuracy.F_score()\n",
    "accuracy.fScore"
   ]
  },
  {
   "cell_type": "code",
   "execution_count": 46,
   "metadata": {},
   "outputs": [
    {
     "data": {
      "image/png": "[encoded data removed]",
      "text/plain": [
       "<Figure size 432x288 with 1 Axes>"
      ]
     },
     "metadata": {
      "needs_background": "light"
     },
     "output_type": "display_data"
    }
   ],
   "source": [
    "# network\n",
    "\n",
    "# weights initialization\n",
    "weights = \"gaussian\"\n",
    "\n",
    "net = Network()\n",
    "net.add(FCLayer(10, 30, weights))\n",
    "net.add(ActivationLayer(sigmoid, sigmoid_prime))\n",
    "net.add(FCLayer(30,20, weights))\n",
    "net.add(ActivationLayer(sigmoid, sigmoid_prime))\n",
    "net.add(FCLayer(20,10, weights))\n",
    "net.add(ActivationLayer(sigmoid, sigmoid_prime))\n",
    "net.add(FCLayer(10,1, weights))\n",
    "net.add(ActivationLayer(sigmoid, sigmoid_prime))\n",
    "# train\n",
    "net.use(mse, mse_prime)\n",
    "net.fit(dataClass.train_X.values.reshape(1168,1,10), dataClass.train_y.values.reshape(1168,1,1), epochs=500, learning_rate=0.3)\n",
    "\n",
    "# test\n",
    "# out = net.predict(x_train)\n",
    "# print(out)"
   ]
  },
  {
   "cell_type": "code",
   "execution_count": 47,
   "metadata": {},
   "outputs": [],
   "source": [
    "predicted = net.predict(dataClass.test_X.values.reshape(292,1,10))\n",
    "predicted = [0 if x < 0.5 else 1 for x in predicted]\n",
    "predicted;\n",
    "actual = dataClass.test_y;"
   ]
  },
  {
   "cell_type": "code",
   "execution_count": 48,
   "metadata": {},
   "outputs": [
    {
     "data": {
      "text/plain": [
       "0.8904109589041096"
      ]
     },
     "execution_count": 48,
     "metadata": {},
     "output_type": "execute_result"
    }
   ],
   "source": [
    "np.count_nonzero(np.array(predicted) == dataClass.test_y)/292"
   ]
  },
  {
   "cell_type": "code",
   "execution_count": 49,
   "metadata": {},
   "outputs": [
    {
     "data": {
      "text/plain": [
       "0.8904109589041096"
      ]
     },
     "execution_count": 49,
     "metadata": {},
     "output_type": "execute_result"
    }
   ],
   "source": [
    "accuracy = Accuracy(predicted, actual)\n",
    "accuracy.accuracy()"
   ]
  },
  {
   "cell_type": "code",
   "execution_count": 50,
   "metadata": {},
   "outputs": [
    {
     "data": {
      "text/plain": [
       "0.891891891891892"
      ]
     },
     "execution_count": 50,
     "metadata": {},
     "output_type": "execute_result"
    }
   ],
   "source": [
    "accuracy.F_score()\n",
    "accuracy.fScore"
   ]
  },
  {
   "cell_type": "code",
   "execution_count": null,
   "metadata": {},
   "outputs": [],
   "source": []
  },
  {
   "cell_type": "code",
   "execution_count": 51,
   "metadata": {
    "scrolled": true
   },
   "outputs": [
    {
     "data": {
      "image/png": "[encoded data removed]",
      "text/plain": [
       "<Figure size 432x288 with 1 Axes>"
      ]
     },
     "metadata": {
      "needs_background": "light"
     },
     "output_type": "display_data"
    }
   ],
   "source": [
    "# network\n",
    "\n",
    "# weights initialization\n",
    "weights = \"gaussian\"\n",
    "\n",
    "net = Network()\n",
    "net.add(FCLayer(10, 20, weights))\n",
    "net.add(ActivationLayer(tanh, tanh_prime))\n",
    "net.add(FCLayer(20,30, weights))\n",
    "net.add(ActivationLayer(tanh, tanh_prime))\n",
    "net.add(FCLayer(30,50, weights))\n",
    "net.add(ActivationLayer(tanh, tanh_prime))\n",
    "net.add(FCLayer(50,40, weights))\n",
    "net.add(ActivationLayer(tanh, tanh_prime))\n",
    "net.add(FCLayer(40,30, weights))\n",
    "net.add(ActivationLayer(tanh, tanh_prime))\n",
    "net.add(FCLayer(30,1, weights))\n",
    "net.add(ActivationLayer(sigmoid, sigmoid_prime))\n",
    "# train\n",
    "net.use(mse, mse_prime)\n",
    "net.fit(dataClass.train_X.values.reshape(1168,1,10), dataClass.train_y.values.reshape(1168,1,1), epochs=500, learning_rate=0.3)\n",
    "\n",
    "# test\n",
    "# out = net.predict(x_train)\n",
    "# print(out)"
   ]
  },
  {
   "cell_type": "code",
   "execution_count": 52,
   "metadata": {},
   "outputs": [],
   "source": [
    "predicted = net.predict(dataClass.test_X.values.reshape(292,1,10))\n",
    "predicted = [0 if x < 0.5 else 1 for x in predicted]\n",
    "predicted;\n",
    "actual = dataClass.test_y;"
   ]
  },
  {
   "cell_type": "code",
   "execution_count": 53,
   "metadata": {},
   "outputs": [
    {
     "data": {
      "text/plain": [
       "0.839041095890411"
      ]
     },
     "execution_count": 53,
     "metadata": {},
     "output_type": "execute_result"
    }
   ],
   "source": [
    "np.count_nonzero(np.array(predicted) == dataClass.test_y)/292"
   ]
  },
  {
   "cell_type": "code",
   "execution_count": 54,
   "metadata": {},
   "outputs": [
    {
     "data": {
      "text/plain": [
       "0.839041095890411"
      ]
     },
     "execution_count": 54,
     "metadata": {},
     "output_type": "execute_result"
    }
   ],
   "source": [
    "accuracy = Accuracy(predicted, actual)\n",
    "accuracy.accuracy()"
   ]
  },
  {
   "cell_type": "code",
   "execution_count": 55,
   "metadata": {},
   "outputs": [
    {
     "data": {
      "text/plain": [
       "0.8562691131498472"
      ]
     },
     "execution_count": 55,
     "metadata": {},
     "output_type": "execute_result"
    }
   ],
   "source": [
    "accuracy.F_score()\n",
    "accuracy.fScore"
   ]
  },
  {
   "cell_type": "code",
   "execution_count": 56,
   "metadata": {},
   "outputs": [
    {
     "data": {
      "image/png": "[encoded data removed]",
      "text/plain": [
       "<Figure size 432x288 with 1 Axes>"
      ]
     },
     "metadata": {
      "needs_background": "light"
     },
     "output_type": "display_data"
    }
   ],
   "source": [
    "# network\n",
    "\n",
    "# weights initialization\n",
    "weights = \"gaussian\"\n",
    "\n",
    "net = Network()\n",
    "net.add(FCLayer(10, 30, weights))\n",
    "net.add(ActivationLayer(tanh, tanh_prime))\n",
    "net.add(FCLayer(30,20, weights))\n",
    "net.add(ActivationLayer(tanh, tanh_prime))\n",
    "net.add(FCLayer(20,10, weights))\n",
    "net.add(ActivationLayer(tanh, tanh_prime))\n",
    "net.add(FCLayer(10,1, weights))\n",
    "net.add(ActivationLayer(sigmoid, sigmoid_prime))\n",
    "# train\n",
    "net.use(mse, mse_prime)\n",
    "net.fit(dataClass.train_X.values.reshape(1168,1,10), dataClass.train_y.values.reshape(1168,1,1), epochs=500, learning_rate=0.3)\n",
    "\n",
    "# test\n",
    "# out = net.predict(x_train)\n",
    "# print(out)"
   ]
  },
  {
   "cell_type": "code",
   "execution_count": 57,
   "metadata": {},
   "outputs": [],
   "source": [
    "predicted = net.predict(dataClass.test_X.values.reshape(292,1,10))\n",
    "predicted = [0 if x < 0.5 else 1 for x in predicted]\n",
    "predicted;\n",
    "actual = dataClass.test_y;"
   ]
  },
  {
   "cell_type": "code",
   "execution_count": 58,
   "metadata": {},
   "outputs": [
    {
     "data": {
      "text/plain": [
       "0.9075342465753424"
      ]
     },
     "execution_count": 58,
     "metadata": {},
     "output_type": "execute_result"
    }
   ],
   "source": [
    "np.count_nonzero(np.array(predicted) == dataClass.test_y)/292"
   ]
  },
  {
   "cell_type": "code",
   "execution_count": 59,
   "metadata": {},
   "outputs": [
    {
     "data": {
      "text/plain": [
       "0.9075342465753424"
      ]
     },
     "execution_count": 59,
     "metadata": {},
     "output_type": "execute_result"
    }
   ],
   "source": [
    "accuracy = Accuracy(predicted, actual)\n",
    "accuracy.accuracy()"
   ]
  },
  {
   "cell_type": "code",
   "execution_count": 60,
   "metadata": {},
   "outputs": [
    {
     "data": {
      "text/plain": [
       "0.9096989966555183"
      ]
     },
     "execution_count": 60,
     "metadata": {},
     "output_type": "execute_result"
    }
   ],
   "source": [
    "accuracy.F_score()\n",
    "accuracy.fScore"
   ]
  },
  {
   "cell_type": "code",
   "execution_count": null,
   "metadata": {},
   "outputs": [],
   "source": []
  },
  {
   "cell_type": "code",
   "execution_count": 61,
   "metadata": {
    "scrolled": true
   },
   "outputs": [
    {
     "data": {
      "image/png": "[encoded data removed]",
      "text/plain": [
       "<Figure size 432x288 with 1 Axes>"
      ]
     },
     "metadata": {
      "needs_background": "light"
     },
     "output_type": "display_data"
    }
   ],
   "source": [
    "# network\n",
    "\n",
    "# weights initialization\n",
    "weights = \"gaussian\"\n",
    "\n",
    "net = Network()\n",
    "net.add(FCLayer(10, 20, weights))\n",
    "net.add(ActivationLayer(sigmoid, sigmoid_prime))\n",
    "net.add(FCLayer(20,30, weights))\n",
    "net.add(ActivationLayer(sigmoid, sigmoid_prime))\n",
    "net.add(FCLayer(30,50, weights))\n",
    "net.add(ActivationLayer(sigmoid, sigmoid_prime))\n",
    "net.add(FCLayer(50,40, weights))\n",
    "net.add(ActivationLayer(sigmoid, sigmoid_prime))\n",
    "net.add(FCLayer(40,30, weights))\n",
    "net.add(ActivationLayer(sigmoid, sigmoid_prime))\n",
    "net.add(FCLayer(30,1, weights))\n",
    "net.add(ActivationLayer(sigmoid, sigmoid_prime))\n",
    "# train\n",
    "net.use(mse, mse_prime)\n",
    "net.fit(dataClass.train_X.values.reshape(1168,1,10), dataClass.train_y.values.reshape(1168,1,1), epochs=500, learning_rate=0.3)\n",
    "\n",
    "# test\n",
    "# out = net.predict(x_train)\n",
    "# print(out)"
   ]
  },
  {
   "cell_type": "code",
   "execution_count": 62,
   "metadata": {},
   "outputs": [],
   "source": [
    "predicted = net.predict(dataClass.test_X.values.reshape(292,1,10))\n",
    "predicted = [0 if x < 0.5 else 1 for x in predicted]\n",
    "predicted;\n",
    "actual = dataClass.test_y;"
   ]
  },
  {
   "cell_type": "code",
   "execution_count": 63,
   "metadata": {},
   "outputs": [
    {
     "data": {
      "text/plain": [
       "0.8904109589041096"
      ]
     },
     "execution_count": 63,
     "metadata": {},
     "output_type": "execute_result"
    }
   ],
   "source": [
    "np.count_nonzero(np.array(predicted) == dataClass.test_y)/292"
   ]
  },
  {
   "cell_type": "code",
   "execution_count": 64,
   "metadata": {},
   "outputs": [
    {
     "data": {
      "text/plain": [
       "0.8904109589041096"
      ]
     },
     "execution_count": 64,
     "metadata": {},
     "output_type": "execute_result"
    }
   ],
   "source": [
    "accuracy = Accuracy(predicted, actual)\n",
    "accuracy.accuracy()"
   ]
  },
  {
   "cell_type": "code",
   "execution_count": 65,
   "metadata": {},
   "outputs": [
    {
     "data": {
      "text/plain": [
       "0.8896551724137931"
      ]
     },
     "execution_count": 65,
     "metadata": {},
     "output_type": "execute_result"
    }
   ],
   "source": [
    "accuracy.F_score()\n",
    "accuracy.fScore"
   ]
  },
  {
   "cell_type": "code",
   "execution_count": null,
   "metadata": {},
   "outputs": [],
   "source": []
  }
 ],
 "metadata": {
  "kernelspec": {
   "display_name": "Python 3",
   "language": "python",
   "name": "python3"
  },
  "language_info": {
   "codemirror_mode": {
    "name": "ipython",
    "version": 3
   },
   "file_extension": ".py",
   "mimetype": "text/x-python",
   "name": "python",
   "nbconvert_exporter": "python",
   "pygments_lexer": "ipython3",
   "version": "3.7.3"
  }
 },
 "nbformat": 4,
 "nbformat_minor": 4
}
